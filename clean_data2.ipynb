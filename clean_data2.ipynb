{
  "nbformat": 4,
  "nbformat_minor": 0,
  "metadata": {
    "colab": {
      "provenance": [],
      "gpuType": "T4"
    },
    "kernelspec": {
      "name": "python3",
      "display_name": "Python 3"
    },
    "language_info": {
      "name": "python"
    },
    "accelerator": "GPU"
  },
  "cells": [
    {
      "cell_type": "markdown",
      "source": [
        "# 0. 필요한 라이브러리 설치"
      ],
      "metadata": {
        "id": "BUEcQJHN9ooM"
      }
    },
    {
      "cell_type": "code",
      "execution_count": 1,
      "metadata": {
        "id": "Xngsb6SW8-6Q"
      },
      "outputs": [],
      "source": [
        "import pandas as pd\n",
        "import re\n",
        "import numpy as np"
      ]
    },
    {
      "cell_type": "code",
      "source": [
        "from google.colab import drive\n",
        "drive.mount('/content/drive')"
      ],
      "metadata": {
        "colab": {
          "base_uri": "https://localhost:8080/"
        },
        "id": "m1Zt82Ec9u3y",
        "outputId": "7b16b2f0-4bfd-47eb-8b4f-4855598a88cb"
      },
      "execution_count": 2,
      "outputs": [
        {
          "output_type": "stream",
          "name": "stdout",
          "text": [
            "Mounted at /content/drive\n"
          ]
        }
      ]
    },
    {
      "cell_type": "code",
      "source": [
        "df = pd.read_csv(\"/content/drive/MyDrive/2025_캡스톤디자인/retention-ai/data/LGUPLUS_raw_data.csv\", encoding='cp949')"
      ],
      "metadata": {
        "id": "ekjxl-xF9rr5"
      },
      "execution_count": 3,
      "outputs": []
    },
    {
      "cell_type": "markdown",
      "source": [
        "# =======1. 고객 발언만 추출하는 함수 정의======="
      ],
      "metadata": {
        "id": "E1fUETYj-E2a"
      }
    },
    {
      "cell_type": "code",
      "source": [
        "def extract_customer_speech(content):\n",
        "  customer_lines = re.findall(r'고객:\\s*(.*?)(?=\\n상담사:|\\n고객:|$)', content, re.DOTALL)\n",
        "\n",
        "  return \" \".join(customer_lines).strip()"
      ],
      "metadata": {
        "id": "hZ1A2MAA99zR"
      },
      "execution_count": 4,
      "outputs": []
    },
    {
      "cell_type": "markdown",
      "source": [
        "# =======2. 고객 발언 칼럼 생성======="
      ],
      "metadata": {
        "id": "A1aycZ7D-lHH"
      }
    },
    {
      "cell_type": "code",
      "source": [
        "df['customer_content'] = df['consulting_content'].apply(extract_customer_speech)"
      ],
      "metadata": {
        "id": "EbcBWeP1-bFT"
      },
      "execution_count": 5,
      "outputs": []
    },
    {
      "cell_type": "markdown",
      "source": [
        "# =======3. 마스킹 토큰 제거======="
      ],
      "metadata": {
        "id": "I6pbqLCN-6ic"
      }
    },
    {
      "cell_type": "code",
      "source": [
        "patterns = r'<NAME>|<CHARGE>|<DATE>|<TIME>|<ADDRESS>|<PHONE_NUMBER>|<MOBILE_NUMBER>|<BIRTH_NUMBER>'"
      ],
      "metadata": {
        "id": "TOrnI3-h-yad"
      },
      "execution_count": 6,
      "outputs": []
    },
    {
      "cell_type": "code",
      "source": [
        "df['cleaned_content'] = df['customer_content'].str.replace(patterns, '', regex=True)\n",
        "df['cleaned_content'] = df['cleaned_content'].str.replace(r'[^가-힣a-zA-Z0-9\\s.,?!]', '', regex=True)"
      ],
      "metadata": {
        "id": "e5UxUfL4_HJ5"
      },
      "execution_count": 7,
      "outputs": []
    },
    {
      "cell_type": "markdown",
      "source": [
        "#=======4. consulting_turns 정규화======="
      ],
      "metadata": {
        "id": "NWOuAMo_ZYzI"
      }
    },
    {
      "cell_type": "code",
      "source": [
        "min_turns = df['consulting_turns'].min()\n",
        "max_turns = df['consulting_turns'].max()\n",
        "df['normalized_turns'] = (df['consulting_turns'] - min_turns) / (max_turns - min_turns)"
      ],
      "metadata": {
        "id": "RjBkhhU-ZXQ4"
      },
      "execution_count": 8,
      "outputs": []
    },
    {
      "cell_type": "markdown",
      "source": [
        "### 상담 카테고리 별 심각도 가중치 부여"
      ],
      "metadata": {
        "id": "Y6J2dezTZvv-"
      }
    },
    {
      "cell_type": "code",
      "source": [
        "def get_weight(category):\n",
        "  # 고위험\n",
        "  if '해지' in category or '요금' in category or '청구' in category:\n",
        "    return 0.8\n",
        "  # 중위험\n",
        "  elif '서비스' in category:\n",
        "    return 0.6\n",
        "  # 단순 문의\n",
        "  else:\n",
        "    return 0.3"
      ],
      "metadata": {
        "id": "w4U8-2KfZ2b7"
      },
      "execution_count": 9,
      "outputs": []
    },
    {
      "cell_type": "code",
      "source": [
        "df['category_weight'] = df['consulting_category'].apply(get_weight)"
      ],
      "metadata": {
        "id": "TYhO6cKuaRYW"
      },
      "execution_count": 10,
      "outputs": []
    },
    {
      "cell_type": "code",
      "source": [
        "df.head()"
      ],
      "metadata": {
        "colab": {
          "base_uri": "https://localhost:8080/",
          "height": 521
        },
        "id": "IJeYjQ_a_40m",
        "outputId": "9ee28b6d-e65c-41a6-c5ad-0259adbf0702"
      },
      "execution_count": 11,
      "outputs": [
        {
          "output_type": "execute_result",
          "data": {
            "text/plain": [
              "   source_id  source  consulting_date consulting_category  client_gender  \\\n",
              "0      43118  엘지유플러스              NaN              요금제 변경            NaN   \n",
              "1      42734  엘지유플러스              NaN            부가서비스 안내            NaN   \n",
              "2      41107  엘지유플러스              NaN               소액 결제            NaN   \n",
              "3      42440  엘지유플러스              NaN               요금 납부            NaN   \n",
              "4      43046  엘지유플러스              NaN             선택약정 할인            NaN   \n",
              "\n",
              "   client_age  consulting_turns  consulting_length  \\\n",
              "0         NaN                63                395   \n",
              "1         NaN                46                310   \n",
              "2         NaN                32                243   \n",
              "3         NaN                38                403   \n",
              "4         NaN                39                286   \n",
              "\n",
              "                                  consulting_content  \\\n",
              "0  상담사: 일상의 즐거운 변화 LGU+ <NAME>입니다.\\n고객: 아 네, 안녕하세...   \n",
              "1  상담사: 일상의 즐거운 변화 LGU+ <NAME>입니다.\\n고객: 예, 안녕하세요?...   \n",
              "2  상담사: 일상의 즐거운 변화 LGU+ <NAME>입니다.\\n고객: 예, 소액결제한도...   \n",
              "3  상담사: 일상의 즐거운 변화 LGU+ <NAME>입니다.\\n고객: 여보세요?\\n상담...   \n",
              "4  상담사: 일상의 즐거운 변화 LGU+ <NAME>입니다.\\n고객: 약정할인 좀 받고...   \n",
              "\n",
              "                                    customer_content  \\\n",
              "0  아 네, 안녕하세요? 네, 요금제 관련된 문의 드릴려고 하는데요. 아 우선 지금 현...   \n",
              "1  예, 안녕하세요? 제가 그 뭐야 보이스피싱에 연류돼가지고 그 뭐야 명의도용 가입제한...   \n",
              "2  예, 소액결제한도를 늘렸는데요. <DATE>이 미납 그 기록이 남아서 결제가 안된다...   \n",
              "3  여보세요? 예, 요금이 좀 미납되어서 요금 좀 낼려고 하는데요. 예. 가상계좌로 좀...   \n",
              "4  약정할인 좀 받고 싶어서요. 네. 1년 해주세요. 예. 예. 네. 네. 네. 네, ...   \n",
              "\n",
              "                                     cleaned_content  normalized_turns  \\\n",
              "0  아 네, 안녕하세요? 네, 요금제 관련된 문의 드릴려고 하는데요. 아 우선 지금 현...          0.525773   \n",
              "1  예, 안녕하세요? 제가 그 뭐야 보이스피싱에 연류돼가지고 그 뭐야 명의도용 가입제한...          0.350515   \n",
              "2  예, 소액결제한도를 늘렸는데요. 이 미납 그 기록이 남아서 결제가 안된다고 하는데 ...          0.206186   \n",
              "3  여보세요? 예, 요금이 좀 미납되어서 요금 좀 낼려고 하는데요. 예. 가상계좌로 좀...          0.268041   \n",
              "4  약정할인 좀 받고 싶어서요. 네. 1년 해주세요. 예. 예. 네. 네. 네. 네, ...          0.278351   \n",
              "\n",
              "   category_weight  \n",
              "0              0.8  \n",
              "1              0.6  \n",
              "2              0.3  \n",
              "3              0.8  \n",
              "4              0.3  "
            ],
            "text/html": [
              "\n",
              "  <div id=\"df-8a371be4-bbc4-45f5-8f80-081772a49f68\" class=\"colab-df-container\">\n",
              "    <div>\n",
              "<style scoped>\n",
              "    .dataframe tbody tr th:only-of-type {\n",
              "        vertical-align: middle;\n",
              "    }\n",
              "\n",
              "    .dataframe tbody tr th {\n",
              "        vertical-align: top;\n",
              "    }\n",
              "\n",
              "    .dataframe thead th {\n",
              "        text-align: right;\n",
              "    }\n",
              "</style>\n",
              "<table border=\"1\" class=\"dataframe\">\n",
              "  <thead>\n",
              "    <tr style=\"text-align: right;\">\n",
              "      <th></th>\n",
              "      <th>source_id</th>\n",
              "      <th>source</th>\n",
              "      <th>consulting_date</th>\n",
              "      <th>consulting_category</th>\n",
              "      <th>client_gender</th>\n",
              "      <th>client_age</th>\n",
              "      <th>consulting_turns</th>\n",
              "      <th>consulting_length</th>\n",
              "      <th>consulting_content</th>\n",
              "      <th>customer_content</th>\n",
              "      <th>cleaned_content</th>\n",
              "      <th>normalized_turns</th>\n",
              "      <th>category_weight</th>\n",
              "    </tr>\n",
              "  </thead>\n",
              "  <tbody>\n",
              "    <tr>\n",
              "      <th>0</th>\n",
              "      <td>43118</td>\n",
              "      <td>엘지유플러스</td>\n",
              "      <td>NaN</td>\n",
              "      <td>요금제 변경</td>\n",
              "      <td>NaN</td>\n",
              "      <td>NaN</td>\n",
              "      <td>63</td>\n",
              "      <td>395</td>\n",
              "      <td>상담사: 일상의 즐거운 변화 LGU+ &lt;NAME&gt;입니다.\\n고객: 아 네, 안녕하세...</td>\n",
              "      <td>아 네, 안녕하세요? 네, 요금제 관련된 문의 드릴려고 하는데요. 아 우선 지금 현...</td>\n",
              "      <td>아 네, 안녕하세요? 네, 요금제 관련된 문의 드릴려고 하는데요. 아 우선 지금 현...</td>\n",
              "      <td>0.525773</td>\n",
              "      <td>0.8</td>\n",
              "    </tr>\n",
              "    <tr>\n",
              "      <th>1</th>\n",
              "      <td>42734</td>\n",
              "      <td>엘지유플러스</td>\n",
              "      <td>NaN</td>\n",
              "      <td>부가서비스 안내</td>\n",
              "      <td>NaN</td>\n",
              "      <td>NaN</td>\n",
              "      <td>46</td>\n",
              "      <td>310</td>\n",
              "      <td>상담사: 일상의 즐거운 변화 LGU+ &lt;NAME&gt;입니다.\\n고객: 예, 안녕하세요?...</td>\n",
              "      <td>예, 안녕하세요? 제가 그 뭐야 보이스피싱에 연류돼가지고 그 뭐야 명의도용 가입제한...</td>\n",
              "      <td>예, 안녕하세요? 제가 그 뭐야 보이스피싱에 연류돼가지고 그 뭐야 명의도용 가입제한...</td>\n",
              "      <td>0.350515</td>\n",
              "      <td>0.6</td>\n",
              "    </tr>\n",
              "    <tr>\n",
              "      <th>2</th>\n",
              "      <td>41107</td>\n",
              "      <td>엘지유플러스</td>\n",
              "      <td>NaN</td>\n",
              "      <td>소액 결제</td>\n",
              "      <td>NaN</td>\n",
              "      <td>NaN</td>\n",
              "      <td>32</td>\n",
              "      <td>243</td>\n",
              "      <td>상담사: 일상의 즐거운 변화 LGU+ &lt;NAME&gt;입니다.\\n고객: 예, 소액결제한도...</td>\n",
              "      <td>예, 소액결제한도를 늘렸는데요. &lt;DATE&gt;이 미납 그 기록이 남아서 결제가 안된다...</td>\n",
              "      <td>예, 소액결제한도를 늘렸는데요. 이 미납 그 기록이 남아서 결제가 안된다고 하는데 ...</td>\n",
              "      <td>0.206186</td>\n",
              "      <td>0.3</td>\n",
              "    </tr>\n",
              "    <tr>\n",
              "      <th>3</th>\n",
              "      <td>42440</td>\n",
              "      <td>엘지유플러스</td>\n",
              "      <td>NaN</td>\n",
              "      <td>요금 납부</td>\n",
              "      <td>NaN</td>\n",
              "      <td>NaN</td>\n",
              "      <td>38</td>\n",
              "      <td>403</td>\n",
              "      <td>상담사: 일상의 즐거운 변화 LGU+ &lt;NAME&gt;입니다.\\n고객: 여보세요?\\n상담...</td>\n",
              "      <td>여보세요? 예, 요금이 좀 미납되어서 요금 좀 낼려고 하는데요. 예. 가상계좌로 좀...</td>\n",
              "      <td>여보세요? 예, 요금이 좀 미납되어서 요금 좀 낼려고 하는데요. 예. 가상계좌로 좀...</td>\n",
              "      <td>0.268041</td>\n",
              "      <td>0.8</td>\n",
              "    </tr>\n",
              "    <tr>\n",
              "      <th>4</th>\n",
              "      <td>43046</td>\n",
              "      <td>엘지유플러스</td>\n",
              "      <td>NaN</td>\n",
              "      <td>선택약정 할인</td>\n",
              "      <td>NaN</td>\n",
              "      <td>NaN</td>\n",
              "      <td>39</td>\n",
              "      <td>286</td>\n",
              "      <td>상담사: 일상의 즐거운 변화 LGU+ &lt;NAME&gt;입니다.\\n고객: 약정할인 좀 받고...</td>\n",
              "      <td>약정할인 좀 받고 싶어서요. 네. 1년 해주세요. 예. 예. 네. 네. 네. 네, ...</td>\n",
              "      <td>약정할인 좀 받고 싶어서요. 네. 1년 해주세요. 예. 예. 네. 네. 네. 네, ...</td>\n",
              "      <td>0.278351</td>\n",
              "      <td>0.3</td>\n",
              "    </tr>\n",
              "  </tbody>\n",
              "</table>\n",
              "</div>\n",
              "    <div class=\"colab-df-buttons\">\n",
              "\n",
              "  <div class=\"colab-df-container\">\n",
              "    <button class=\"colab-df-convert\" onclick=\"convertToInteractive('df-8a371be4-bbc4-45f5-8f80-081772a49f68')\"\n",
              "            title=\"Convert this dataframe to an interactive table.\"\n",
              "            style=\"display:none;\">\n",
              "\n",
              "  <svg xmlns=\"http://www.w3.org/2000/svg\" height=\"24px\" viewBox=\"0 -960 960 960\">\n",
              "    <path d=\"M120-120v-720h720v720H120Zm60-500h600v-160H180v160Zm220 220h160v-160H400v160Zm0 220h160v-160H400v160ZM180-400h160v-160H180v160Zm440 0h160v-160H620v160ZM180-180h160v-160H180v160Zm440 0h160v-160H620v160Z\"/>\n",
              "  </svg>\n",
              "    </button>\n",
              "\n",
              "  <style>\n",
              "    .colab-df-container {\n",
              "      display:flex;\n",
              "      gap: 12px;\n",
              "    }\n",
              "\n",
              "    .colab-df-convert {\n",
              "      background-color: #E8F0FE;\n",
              "      border: none;\n",
              "      border-radius: 50%;\n",
              "      cursor: pointer;\n",
              "      display: none;\n",
              "      fill: #1967D2;\n",
              "      height: 32px;\n",
              "      padding: 0 0 0 0;\n",
              "      width: 32px;\n",
              "    }\n",
              "\n",
              "    .colab-df-convert:hover {\n",
              "      background-color: #E2EBFA;\n",
              "      box-shadow: 0px 1px 2px rgba(60, 64, 67, 0.3), 0px 1px 3px 1px rgba(60, 64, 67, 0.15);\n",
              "      fill: #174EA6;\n",
              "    }\n",
              "\n",
              "    .colab-df-buttons div {\n",
              "      margin-bottom: 4px;\n",
              "    }\n",
              "\n",
              "    [theme=dark] .colab-df-convert {\n",
              "      background-color: #3B4455;\n",
              "      fill: #D2E3FC;\n",
              "    }\n",
              "\n",
              "    [theme=dark] .colab-df-convert:hover {\n",
              "      background-color: #434B5C;\n",
              "      box-shadow: 0px 1px 3px 1px rgba(0, 0, 0, 0.15);\n",
              "      filter: drop-shadow(0px 1px 2px rgba(0, 0, 0, 0.3));\n",
              "      fill: #FFFFFF;\n",
              "    }\n",
              "  </style>\n",
              "\n",
              "    <script>\n",
              "      const buttonEl =\n",
              "        document.querySelector('#df-8a371be4-bbc4-45f5-8f80-081772a49f68 button.colab-df-convert');\n",
              "      buttonEl.style.display =\n",
              "        google.colab.kernel.accessAllowed ? 'block' : 'none';\n",
              "\n",
              "      async function convertToInteractive(key) {\n",
              "        const element = document.querySelector('#df-8a371be4-bbc4-45f5-8f80-081772a49f68');\n",
              "        const dataTable =\n",
              "          await google.colab.kernel.invokeFunction('convertToInteractive',\n",
              "                                                    [key], {});\n",
              "        if (!dataTable) return;\n",
              "\n",
              "        const docLinkHtml = 'Like what you see? Visit the ' +\n",
              "          '<a target=\"_blank\" href=https://colab.research.google.com/notebooks/data_table.ipynb>data table notebook</a>'\n",
              "          + ' to learn more about interactive tables.';\n",
              "        element.innerHTML = '';\n",
              "        dataTable['output_type'] = 'display_data';\n",
              "        await google.colab.output.renderOutput(dataTable, element);\n",
              "        const docLink = document.createElement('div');\n",
              "        docLink.innerHTML = docLinkHtml;\n",
              "        element.appendChild(docLink);\n",
              "      }\n",
              "    </script>\n",
              "  </div>\n",
              "\n",
              "\n",
              "    <div id=\"df-ad45da21-6eab-4087-af6b-aa4594c9979b\">\n",
              "      <button class=\"colab-df-quickchart\" onclick=\"quickchart('df-ad45da21-6eab-4087-af6b-aa4594c9979b')\"\n",
              "                title=\"Suggest charts\"\n",
              "                style=\"display:none;\">\n",
              "\n",
              "<svg xmlns=\"http://www.w3.org/2000/svg\" height=\"24px\"viewBox=\"0 0 24 24\"\n",
              "     width=\"24px\">\n",
              "    <g>\n",
              "        <path d=\"M19 3H5c-1.1 0-2 .9-2 2v14c0 1.1.9 2 2 2h14c1.1 0 2-.9 2-2V5c0-1.1-.9-2-2-2zM9 17H7v-7h2v7zm4 0h-2V7h2v10zm4 0h-2v-4h2v4z\"/>\n",
              "    </g>\n",
              "</svg>\n",
              "      </button>\n",
              "\n",
              "<style>\n",
              "  .colab-df-quickchart {\n",
              "      --bg-color: #E8F0FE;\n",
              "      --fill-color: #1967D2;\n",
              "      --hover-bg-color: #E2EBFA;\n",
              "      --hover-fill-color: #174EA6;\n",
              "      --disabled-fill-color: #AAA;\n",
              "      --disabled-bg-color: #DDD;\n",
              "  }\n",
              "\n",
              "  [theme=dark] .colab-df-quickchart {\n",
              "      --bg-color: #3B4455;\n",
              "      --fill-color: #D2E3FC;\n",
              "      --hover-bg-color: #434B5C;\n",
              "      --hover-fill-color: #FFFFFF;\n",
              "      --disabled-bg-color: #3B4455;\n",
              "      --disabled-fill-color: #666;\n",
              "  }\n",
              "\n",
              "  .colab-df-quickchart {\n",
              "    background-color: var(--bg-color);\n",
              "    border: none;\n",
              "    border-radius: 50%;\n",
              "    cursor: pointer;\n",
              "    display: none;\n",
              "    fill: var(--fill-color);\n",
              "    height: 32px;\n",
              "    padding: 0;\n",
              "    width: 32px;\n",
              "  }\n",
              "\n",
              "  .colab-df-quickchart:hover {\n",
              "    background-color: var(--hover-bg-color);\n",
              "    box-shadow: 0 1px 2px rgba(60, 64, 67, 0.3), 0 1px 3px 1px rgba(60, 64, 67, 0.15);\n",
              "    fill: var(--button-hover-fill-color);\n",
              "  }\n",
              "\n",
              "  .colab-df-quickchart-complete:disabled,\n",
              "  .colab-df-quickchart-complete:disabled:hover {\n",
              "    background-color: var(--disabled-bg-color);\n",
              "    fill: var(--disabled-fill-color);\n",
              "    box-shadow: none;\n",
              "  }\n",
              "\n",
              "  .colab-df-spinner {\n",
              "    border: 2px solid var(--fill-color);\n",
              "    border-color: transparent;\n",
              "    border-bottom-color: var(--fill-color);\n",
              "    animation:\n",
              "      spin 1s steps(1) infinite;\n",
              "  }\n",
              "\n",
              "  @keyframes spin {\n",
              "    0% {\n",
              "      border-color: transparent;\n",
              "      border-bottom-color: var(--fill-color);\n",
              "      border-left-color: var(--fill-color);\n",
              "    }\n",
              "    20% {\n",
              "      border-color: transparent;\n",
              "      border-left-color: var(--fill-color);\n",
              "      border-top-color: var(--fill-color);\n",
              "    }\n",
              "    30% {\n",
              "      border-color: transparent;\n",
              "      border-left-color: var(--fill-color);\n",
              "      border-top-color: var(--fill-color);\n",
              "      border-right-color: var(--fill-color);\n",
              "    }\n",
              "    40% {\n",
              "      border-color: transparent;\n",
              "      border-right-color: var(--fill-color);\n",
              "      border-top-color: var(--fill-color);\n",
              "    }\n",
              "    60% {\n",
              "      border-color: transparent;\n",
              "      border-right-color: var(--fill-color);\n",
              "    }\n",
              "    80% {\n",
              "      border-color: transparent;\n",
              "      border-right-color: var(--fill-color);\n",
              "      border-bottom-color: var(--fill-color);\n",
              "    }\n",
              "    90% {\n",
              "      border-color: transparent;\n",
              "      border-bottom-color: var(--fill-color);\n",
              "    }\n",
              "  }\n",
              "</style>\n",
              "\n",
              "      <script>\n",
              "        async function quickchart(key) {\n",
              "          const quickchartButtonEl =\n",
              "            document.querySelector('#' + key + ' button');\n",
              "          quickchartButtonEl.disabled = true;  // To prevent multiple clicks.\n",
              "          quickchartButtonEl.classList.add('colab-df-spinner');\n",
              "          try {\n",
              "            const charts = await google.colab.kernel.invokeFunction(\n",
              "                'suggestCharts', [key], {});\n",
              "          } catch (error) {\n",
              "            console.error('Error during call to suggestCharts:', error);\n",
              "          }\n",
              "          quickchartButtonEl.classList.remove('colab-df-spinner');\n",
              "          quickchartButtonEl.classList.add('colab-df-quickchart-complete');\n",
              "        }\n",
              "        (() => {\n",
              "          let quickchartButtonEl =\n",
              "            document.querySelector('#df-ad45da21-6eab-4087-af6b-aa4594c9979b button');\n",
              "          quickchartButtonEl.style.display =\n",
              "            google.colab.kernel.accessAllowed ? 'block' : 'none';\n",
              "        })();\n",
              "      </script>\n",
              "    </div>\n",
              "\n",
              "    </div>\n",
              "  </div>\n"
            ],
            "application/vnd.google.colaboratory.intrinsic+json": {
              "type": "dataframe",
              "variable_name": "df",
              "summary": "{\n  \"name\": \"df\",\n  \"rows\": 3216,\n  \"fields\": [\n    {\n      \"column\": \"source_id\",\n      \"properties\": {\n        \"dtype\": \"number\",\n        \"std\": 940,\n        \"min\": 40001,\n        \"max\": 44017,\n        \"num_unique_values\": 3216,\n        \"samples\": [\n          41994,\n          41798,\n          41092\n        ],\n        \"semantic_type\": \"\",\n        \"description\": \"\"\n      }\n    },\n    {\n      \"column\": \"source\",\n      \"properties\": {\n        \"dtype\": \"category\",\n        \"num_unique_values\": 1,\n        \"samples\": [\n          \"\\uc5d8\\uc9c0\\uc720\\ud50c\\ub7ec\\uc2a4\"\n        ],\n        \"semantic_type\": \"\",\n        \"description\": \"\"\n      }\n    },\n    {\n      \"column\": \"consulting_date\",\n      \"properties\": {\n        \"dtype\": \"number\",\n        \"std\": null,\n        \"min\": null,\n        \"max\": null,\n        \"num_unique_values\": 0,\n        \"samples\": [],\n        \"semantic_type\": \"\",\n        \"description\": \"\"\n      }\n    },\n    {\n      \"column\": \"consulting_category\",\n      \"properties\": {\n        \"dtype\": \"category\",\n        \"num_unique_values\": 59,\n        \"samples\": [],\n        \"semantic_type\": \"\",\n        \"description\": \"\"\n      }\n    },\n    {\n      \"column\": \"client_gender\",\n      \"properties\": {\n        \"dtype\": \"number\",\n        \"std\": null,\n        \"min\": null,\n        \"max\": null,\n        \"num_unique_values\": 0,\n        \"samples\": [],\n        \"semantic_type\": \"\",\n        \"description\": \"\"\n      }\n    },\n    {\n      \"column\": \"client_age\",\n      \"properties\": {\n        \"dtype\": \"number\",\n        \"std\": null,\n        \"min\": null,\n        \"max\": null,\n        \"num_unique_values\": 0,\n        \"samples\": [],\n        \"semantic_type\": \"\",\n        \"description\": \"\"\n      }\n    },\n    {\n      \"column\": \"consulting_turns\",\n      \"properties\": {\n        \"dtype\": \"number\",\n        \"std\": 11,\n        \"min\": 12,\n        \"max\": 109,\n        \"num_unique_values\": 74,\n        \"samples\": [],\n        \"semantic_type\": \"\",\n        \"description\": \"\"\n      }\n    },\n    {\n      \"column\": \"consulting_length\",\n      \"properties\": {\n        \"dtype\": \"number\",\n        \"std\": 78,\n        \"min\": 131,\n        \"max\": 659,\n        \"num_unique_values\": 395,\n        \"samples\": [],\n        \"semantic_type\": \"\",\n        \"description\": \"\"\n      }\n    },\n    {\n      \"column\": \"consulting_content\",\n      \"properties\": {\n        \"dtype\": \"string\",\n        \"num_unique_values\": 3216,\n        \"samples\": [],\n        \"semantic_type\": \"\",\n        \"description\": \"\"\n      }\n    },\n    {\n      \"column\": \"customer_content\",\n      \"properties\": {\n        \"dtype\": \"string\",\n        \"num_unique_values\": 3216,\n        \"samples\": [],\n        \"semantic_type\": \"\",\n        \"description\": \"\"\n      }\n    },\n    {\n      \"column\": \"cleaned_content\",\n      \"properties\": {\n        \"dtype\": \"string\",\n        \"num_unique_values\": 3216,\n        \"samples\": [],\n        \"semantic_type\": \"\",\n        \"description\": \"\"\n      }\n    },\n    {\n      \"column\": \"normalized_turns\",\n      \"properties\": {\n        \"dtype\": \"number\",\n        \"std\": 0.11967587461048058,\n        \"min\": 0.0,\n        \"max\": 1.0,\n        \"num_unique_values\": 74,\n        \"samples\": [],\n        \"semantic_type\": \"\",\n        \"description\": \"\"\n      }\n    },\n    {\n      \"column\": \"category_weight\",\n      \"properties\": {\n        \"dtype\": \"number\",\n        \"std\": 0.2418725369081822,\n        \"min\": 0.3,\n        \"max\": 0.8,\n        \"num_unique_values\": 3,\n        \"samples\": [],\n        \"semantic_type\": \"\",\n        \"description\": \"\"\n      }\n    }\n  ]\n}"
            }
          },
          "metadata": {},
          "execution_count": 11
        }
      ]
    },
    {
      "cell_type": "markdown",
      "source": [
        "# =======4. 불필요한 칼럼 제거======="
      ],
      "metadata": {
        "id": "qZSRB87nbL7T"
      }
    },
    {
      "cell_type": "code",
      "source": [
        "columns_to_drop = [\n",
        "    'source',\n",
        "    'consulting_content',\n",
        "    'customer_content',\n",
        "    'consulting_length',\n",
        "    'consulting_date',\n",
        "    'client_gender',\n",
        "    'client_age',\n",
        "]\n",
        "\n",
        "df = df.drop(columns=columns_to_drop, errors='ignore')"
      ],
      "metadata": {
        "id": "9w4xjAUzbR0C"
      },
      "execution_count": 13,
      "outputs": []
    },
    {
      "cell_type": "code",
      "source": [
        "print(df.columns.to_list())"
      ],
      "metadata": {
        "colab": {
          "base_uri": "https://localhost:8080/"
        },
        "id": "jYknd0Lubm3B",
        "outputId": "a4821537-e8f6-4843-e60f-150d59c81e07"
      },
      "execution_count": 14,
      "outputs": [
        {
          "output_type": "stream",
          "name": "stdout",
          "text": [
            "['source_id', 'consulting_category', 'consulting_turns', 'cleaned_content', 'normalized_turns', 'category_weight']\n"
          ]
        }
      ]
    },
    {
      "cell_type": "code",
      "source": [
        "df['consulting_category'].unique()"
      ],
      "metadata": {
        "colab": {
          "base_uri": "https://localhost:8080/"
        },
        "id": "TLwCMBf2bzgb",
        "outputId": "88fe5cd4-cf20-4da7-ffcf-87496aade61e"
      },
      "execution_count": 18,
      "outputs": [
        {
          "output_type": "execute_result",
          "data": {
            "text/plain": [
              "array(['요금제 변경', '부가서비스 안내', '소액 결제', '요금 납부', '선택약정 할인', '결합할인',\n",
              "       '인터넷 장애/고장', '명의/번호/유심 해지', '납부확인서', '통화품질', '납부 방법 변경', '요금 안내',\n",
              "       '가입 안내', '휴대폰 정지/분실/파손', '기기변경', '내역 조회', '요금 할인', '군입대 일시정지',\n",
              "       '보험 안내', '복지할인 등록', '장비 안내', '보험 청구', '인터넷 속도/품질', '상품 안내', '해외로밍',\n",
              "       '위약금 안내', '개통점 안내', '세금계산서', '청구서', '기기할부 약정', '청구지 변경',\n",
              "       '명의/번호/유심 일시정지', '이전 설치', '정보변경', '명의/번호/유심 변경', '배송문의',\n",
              "       '인터넷 가입 및 변경', '번호 변경', '데이터 옵션 안내', '멤버십 혜택', '파손보험 안내', '번호이동',\n",
              "       '해지 안내', '보험 해지', '인터넷전화가입 및 변경', '장기고객 혜택', '환불 안내', '한도 안내',\n",
              "       '보험 혜택', '번호 이동', '기타 할인 혜택', '제휴카드로 할인', '반품 안내',\n",
              "       '명 의/번호/유심 일시정지', '카드 배송', '약정 안내', '보험 신청', '자동 이체', '납부 확인서'],\n",
              "      dtype=object)"
            ]
          },
          "metadata": {},
          "execution_count": 18
        }
      ]
    },
    {
      "cell_type": "markdown",
      "source": [
        "#=======5. 최종 데이터 저장======="
      ],
      "metadata": {
        "id": "c8GjB7fqBRmC"
      }
    },
    {
      "cell_type": "code",
      "source": [
        "df.to_csv('lg_cleaned_data.csv', index=False)"
      ],
      "metadata": {
        "id": "BDzbvruaBOeR"
      },
      "execution_count": 19,
      "outputs": []
    }
  ]
}